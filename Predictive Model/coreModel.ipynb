{
 "cells": [
  {
   "cell_type": "code",
   "execution_count": 1,
   "metadata": {},
   "outputs": [],
   "source": [
    "import numpy as np\n",
    "import pandas as pd\n",
    "import seaborn as sns\n",
    "import itertools\n",
    "import matplotlib.pyplot as plt\n",
    "from sklearn.metrics import confusion_matrix, recall_score, precision_score, classification_report, accuracy_score\n",
    "from sklearn.metrics import roc_curve, auc, roc_auc_score\n",
    "import warnings\n",
    "warnings.simplefilter('ignore')\n",
    "from sklearn.discriminant_analysis import LinearDiscriminantAnalysis\n",
    "from sklearn.ensemble import RandomForestClassifier\n",
    "from sklearn.model_selection import RandomizedSearchCV, GridSearchCV, train_test_split"
   ]
  },
  {
   "cell_type": "code",
   "execution_count": 3,
   "metadata": {},
   "outputs": [],
   "source": [
    "PCOS_inf = pd.read_csv('PCOS_infertility.csv')\n",
    "PCOS_woinf = pd.read_excel('PCOS_data_without_infertility.xlsx', sheet_name=\"Full_new\")\n",
    "\n",
    "X=data.drop([\"PCOS (Y/N)\",\"Sl. No\",\"Patient File No.\"],axis = 1)\n",
    "y=data[\"PCOS (Y/N)\"]"
   ]
  },
  {
   "cell_type": "code",
   "execution_count": 4,
   "metadata": {},
   "outputs": [],
   "source": [
    "X = X.to_numpy()\n",
    "sample_size = X.shape[0]\n",
    "time_steps  = X.shape[1]\n",
    "input_dimension = 1\n",
    "train_data_reshaped = X.reshape(sample_size,time_steps,input_dimension)"
   ]
  },
  {
   "cell_type": "code",
   "execution_count": 5,
   "metadata": {},
   "outputs": [],
   "source": [
    "from sklearn.preprocessing import StandardScaler\n",
    "scaler = StandardScaler()\n",
    "scaled_data = scaler.fit_transform(X)"
   ]
  },
  {
   "cell_type": "code",
   "execution_count": 6,
   "metadata": {},
   "outputs": [],
   "source": [
    "X_train, X_test, y_train, y_test = train_test_split(X, y, test_size = 0.1, random_state = 1000)"
   ]
  },
  {
   "cell_type": "code",
   "execution_count": 7,
   "metadata": {},
   "outputs": [],
   "source": [
    "sc = StandardScaler()\n",
    "X_train = sc.fit_transform(X_train)\n",
    "X_test = sc.transform(X_test)"
   ]
  },
  {
   "cell_type": "code",
   "execution_count": 8,
   "metadata": {},
   "outputs": [
    {
     "name": "stdout",
     "output_type": "stream",
     "text": [
      "Training Accuracy: % 91.98\n",
      "Testing Accuracy: % 89.09\n"
     ]
    }
   ],
   "source": [
    "rf_clf = LinearDiscriminantAnalysis()\n",
    "rf_clf.fit(X_train,y_train)\n",
    "acc_rf_clf_train = round(rf_clf.score(X_train, y_train)*100,2) \n",
    "acc_rf_clf_test = round(rf_clf.score(X_test,y_test)*100,2)\n",
    "print(\"Training Accuracy: % {}\".format(acc_rf_clf_train))\n",
    "print(\"Testing Accuracy: % {}\".format(acc_rf_clf_test))"
   ]
  },
  {
   "cell_type": "code",
   "execution_count": 9,
   "metadata": {},
   "outputs": [],
   "source": [
    "rf_prob_y_pred = rf_clf.predict_proba(X_test)\n",
    "rf_fpr, rf_tpr, rf_threshold = roc_curve(y_test, rf_prob_y_pred[:,1])\n",
    "rf_auc = auc(rf_fpr, rf_tpr)"
   ]
  },
  {
   "cell_type": "code",
   "execution_count": 11,
   "metadata": {},
   "outputs": [
    {
     "data": {
      "text/plain": [
       "[]"
      ]
     },
     "execution_count": 11,
     "metadata": {},
     "output_type": "execute_result"
    },
    {
     "data": {
      "image/png": "[encoded data removed]",
      "text/plain": [
       "<Figure size 432x288 with 1 Axes>"
      ]
     },
     "metadata": {},
     "output_type": "display_data"
    }
   ],
   "source": [
    "sns.set(style=\"darkgrid\")\n",
    "plt.plot(rf_fpr, rf_tpr, label = 'Linear Discriminant Analysis %0.2f'%rf_auc)\n",
    "plt.plot([0,1],[0,1],'r-')\n",
    "plt.legend()\n",
    "plt.xlabel('False Positive Rate')\n",
    "plt.ylabel('True Positive Rate')\n",
    "plt.plot()"
   ]
  },
  {
   "cell_type": "code",
   "execution_count": 12,
   "metadata": {},
   "outputs": [
    {
     "name": "stdout",
     "output_type": "stream",
     "text": [
      "              precision    recall  f1-score   support\n",
      "\n",
      "           0       0.85      1.00      0.92        34\n",
      "           1       1.00      0.71      0.83        21\n",
      "\n",
      "    accuracy                           0.89        55\n",
      "   macro avg       0.93      0.86      0.88        55\n",
      "weighted avg       0.91      0.89      0.89        55\n",
      "\n"
     ]
    }
   ],
   "source": [
    "pred_rf = rf_clf.predict(X_test)\n",
    "from sklearn.metrics import classification_report\n",
    "classi_report = classification_report(y_test, pred_rf)\n",
    "print(classi_report)"
   ]
  },
  {
   "cell_type": "code",
   "execution_count": null,
   "metadata": {},
   "outputs": [],
   "source": []
  }
 ],
 "metadata": {
  "kernelspec": {
   "display_name": "Python 3",
   "language": "python",
   "name": "python3"
  },
  "language_info": {
   "codemirror_mode": {
    "name": "ipython",
    "version": 3
   },
   "file_extension": ".py",
   "mimetype": "text/x-python",
   "name": "python",
   "nbconvert_exporter": "python",
   "pygments_lexer": "ipython3",
   "version": "3.7.6"
  }
 },
 "nbformat": 4,
 "nbformat_minor": 4
}
